{
  "nbformat": 4,
  "nbformat_minor": 0,
  "metadata": {
    "colab": {
      "provenance": [],
      "authorship_tag": "ABX9TyMHenBtzqoEztXbO2gbsR1m",
      "include_colab_link": true
    },
    "kernelspec": {
      "name": "python3",
      "display_name": "Python 3"
    },
    "language_info": {
      "name": "python"
    }
  },
  "cells": [
    {
      "cell_type": "markdown",
      "metadata": {
        "id": "view-in-github",
        "colab_type": "text"
      },
      "source": [
        "<a href=\"https://colab.research.google.com/github/Manvitha2255/colabprograms/blob/main/task2.ipynb\" target=\"_parent\"><img src=\"https://colab.research.google.com/assets/colab-badge.svg\" alt=\"Open In Colab\"/></a>"
      ]
    },
    {
      "cell_type": "code",
      "execution_count": 1,
      "metadata": {
        "colab": {
          "base_uri": "https://localhost:8080/"
        },
        "id": "S0bolqsjoJvq",
        "outputId": "c51923da-3772-4295-bd86-653b126e96ea"
      },
      "outputs": [
        {
          "output_type": "stream",
          "name": "stdout",
          "text": [
            "Hardcoded Variables: 10 * 20 = 200\n"
          ]
        }
      ],
      "source": [
        "# Version 1: Hardcoded variables\n",
        "# Demonstrating the use of predefined values\n",
        "x = 10\n",
        "y = 20\n",
        "result = x * y\n",
        "print(f\"Hardcoded Variables: {x} * {y} = {result}\")\n"
      ]
    },
    {
      "cell_type": "code",
      "source": [
        "# Version 2: Accepting input from the keyboard\n",
        "try:\n",
        "    x = int(input(\"Enter the first number: \"))\n",
        "    y = int(input(\"Enter the second number: \"))\n",
        "    result = x * y\n",
        "    print(f\"Keyboard Input: {x} * {y} = {result}\")\n",
        "except ValueError:\n",
        "    print(\"Error: Please enter valid integers.\")\n"
      ],
      "metadata": {
        "colab": {
          "base_uri": "https://localhost:8080/"
        },
        "id": "ihummPM6pGqk",
        "outputId": "4ef436d8-92b6-459d-9838-88cd0a268aa1"
      },
      "execution_count": 5,
      "outputs": [
        {
          "output_type": "stream",
          "name": "stdout",
          "text": [
            "Enter the first number: 15\n",
            "Enter the second number: 25\n",
            "Keyboard Input: 15 * 25 = 375\n"
          ]
        }
      ]
    },
    {
      "cell_type": "code",
      "source": [
        "# Creating the single_input.txt file\n",
        "with open(\"single_input.txt\", \"w\") as file:\n",
        "    file.write(\"5\")  # Replace \"5\" with any number you want to use.\n",
        "print(\"single_input.txt file created successfully!\")\n"
      ],
      "metadata": {
        "colab": {
          "base_uri": "https://localhost:8080/"
        },
        "id": "77-f7yw8pLFb",
        "outputId": "f2f40293-aedf-4ffd-a98b-7bd334223318"
      },
      "execution_count": 6,
      "outputs": [
        {
          "output_type": "stream",
          "name": "stdout",
          "text": [
            "single_input.txt file created successfully!\n"
          ]
        }
      ]
    },
    {
      "cell_type": "code",
      "source": [
        "# Version 3: Reading a single input from a file\n",
        "try:\n",
        "    with open(\"single_input.txt\", \"r\") as file:\n",
        "        x = int(file.read().strip())\n",
        "        result = x * 2  # Multiplying the single input by 2\n",
        "        print(f\"Read from File (Single Input): {x} * 2 = {result}\")\n",
        "except FileNotFoundError:\n",
        "    print(\"Error: single_input.txt not found.\")\n",
        "except ValueError:\n",
        "    print(\"Error: Could not convert data to an integer.\")\n"
      ],
      "metadata": {
        "colab": {
          "base_uri": "https://localhost:8080/"
        },
        "id": "RxWm2CnypV0T",
        "outputId": "8c814c04-5999-45e1-f491-32fffd0414fe"
      },
      "execution_count": 7,
      "outputs": [
        {
          "output_type": "stream",
          "name": "stdout",
          "text": [
            "Read from File (Single Input): 5 * 2 = 10\n"
          ]
        }
      ]
    },
    {
      "cell_type": "code",
      "source": [
        "# Creating the multiple_inputs.txt file\n",
        "with open(\"multiple_inputs.txt\", \"w\") as file:\n",
        "    file.write(\"10\\n20\\n30\\n40\")\n",
        "print(\"multiple_inputs.txt file created successfully!\")\n"
      ],
      "metadata": {
        "colab": {
          "base_uri": "https://localhost:8080/"
        },
        "id": "uhk1ZvzKpnd6",
        "outputId": "a09b8dd6-e9fb-49df-a0fa-0e6375690804"
      },
      "execution_count": 9,
      "outputs": [
        {
          "output_type": "stream",
          "name": "stdout",
          "text": [
            "multiple_inputs.txt file created successfully!\n"
          ]
        }
      ]
    },
    {
      "cell_type": "code",
      "source": [
        "# Version 4: Reading multiple inputs from a file\n",
        "try:\n",
        "    with open(\"multiple_inputs.txt\", \"r\") as file:\n",
        "        numbers = [int(line.strip()) for line in file.readlines()]\n",
        "        product = 1\n",
        "        for num in numbers:\n",
        "            product *= num\n",
        "        print(f\"Read from File (Multiple Inputs): Numbers = {numbers}, Product = {product}\")\n",
        "except FileNotFoundError:\n",
        "    print(\"Error: multiple_inputs.txt not found.\")\n",
        "except ValueError:\n",
        "    print(\"Error: Could not convert one of the lines to an integer.\")\n"
      ],
      "metadata": {
        "colab": {
          "base_uri": "https://localhost:8080/"
        },
        "id": "m7_sX0Y4pq9i",
        "outputId": "026dc1c1-5332-433e-9953-020d688b7f7e"
      },
      "execution_count": 10,
      "outputs": [
        {
          "output_type": "stream",
          "name": "stdout",
          "text": [
            "Read from File (Multiple Inputs): Numbers = [10, 20, 30, 40], Product = 240000\n"
          ]
        }
      ]
    },
    {
      "cell_type": "code",
      "source": [
        "# Save Version 1: Hardcoded multiplication to a file\n",
        "from google.colab import files\n",
        "with open(\"version_1_hardcoding.py\", \"w\") as file:\n",
        "    file.write(\"\"\"\n",
        "# Version 1: Hardcoded variables\n",
        "x = 10\n",
        "y = 20\n",
        "result = x * y\n",
        "print(f\"Hardcoded Variables: {x} * {y} = {result}\")\n",
        "\"\"\")\n",
        "files.download(\"version_1_hardcoding.py\")\n"
      ],
      "metadata": {
        "colab": {
          "base_uri": "https://localhost:8080/",
          "height": 17
        },
        "id": "Z1KYpqFkqHTs",
        "outputId": "9edea3bc-0386-4d61-95fd-e0d55131ba01"
      },
      "execution_count": 11,
      "outputs": [
        {
          "output_type": "display_data",
          "data": {
            "text/plain": [
              "<IPython.core.display.Javascript object>"
            ],
            "application/javascript": [
              "\n",
              "    async function download(id, filename, size) {\n",
              "      if (!google.colab.kernel.accessAllowed) {\n",
              "        return;\n",
              "      }\n",
              "      const div = document.createElement('div');\n",
              "      const label = document.createElement('label');\n",
              "      label.textContent = `Downloading \"${filename}\": `;\n",
              "      div.appendChild(label);\n",
              "      const progress = document.createElement('progress');\n",
              "      progress.max = size;\n",
              "      div.appendChild(progress);\n",
              "      document.body.appendChild(div);\n",
              "\n",
              "      const buffers = [];\n",
              "      let downloaded = 0;\n",
              "\n",
              "      const channel = await google.colab.kernel.comms.open(id);\n",
              "      // Send a message to notify the kernel that we're ready.\n",
              "      channel.send({})\n",
              "\n",
              "      for await (const message of channel.messages) {\n",
              "        // Send a message to notify the kernel that we're ready.\n",
              "        channel.send({})\n",
              "        if (message.buffers) {\n",
              "          for (const buffer of message.buffers) {\n",
              "            buffers.push(buffer);\n",
              "            downloaded += buffer.byteLength;\n",
              "            progress.value = downloaded;\n",
              "          }\n",
              "        }\n",
              "      }\n",
              "      const blob = new Blob(buffers, {type: 'application/binary'});\n",
              "      const a = document.createElement('a');\n",
              "      a.href = window.URL.createObjectURL(blob);\n",
              "      a.download = filename;\n",
              "      div.appendChild(a);\n",
              "      a.click();\n",
              "      div.remove();\n",
              "    }\n",
              "  "
            ]
          },
          "metadata": {}
        },
        {
          "output_type": "display_data",
          "data": {
            "text/plain": [
              "<IPython.core.display.Javascript object>"
            ],
            "application/javascript": [
              "download(\"download_b3a3d117-c41d-4bd1-a469-de1029fd4b5e\", \"version_1_hardcoding.py\", 115)"
            ]
          },
          "metadata": {}
        }
      ]
    }
  ]
}